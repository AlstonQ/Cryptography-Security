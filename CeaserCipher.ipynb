{
 "cells": [
  {
   "cell_type": "code",
   "execution_count": 1,
   "metadata": {},
   "outputs": [],
   "source": [
    "def ceaserEnc(msg,s):\n",
    "    encrypt=''\n",
    "    for i in range(0,len(msg)):\n",
    "        char=msg[i]\n",
    "        if(char.isupper()):\n",
    "            result=chr((ord(char)+s-65)%26+65)\n",
    "        else:\n",
    "            result=chr((ord(char)+s-97)%26+97)\n",
    "        encrypt=encrypt+result\n",
    "    return encrypt"
   ]
  },
  {
   "cell_type": "code",
   "execution_count": 2,
   "metadata": {
    "collapsed": true
   },
   "outputs": [],
   "source": [
    "def ceaserDec(enc,s):\n",
    "    decrypt=''\n",
    "    for i in range(0,len(enc)):\n",
    "        char=enc[i]\n",
    "        if(char.isupper()):\n",
    "            result=chr((ord(char)-s-65)%26+65)\n",
    "        else:\n",
    "            result=chr((ord(char)-s-97)%26+97)\n",
    "        decrypt=decrypt+result\n",
    "    return decrypt          "
   ]
  },
  {
   "cell_type": "code",
   "execution_count": 3,
   "metadata": {},
   "outputs": [
    {
     "name": "stdout",
     "output_type": "stream",
     "text": [
      "Enter Message: Hi\n",
      "Enter Shift Key: 4\n",
      "Encrypted Message:  Lm\n",
      "Decrypted Message:  Hi\n",
      "Encryption and Decryption Successful\n"
     ]
    }
   ],
   "source": [
    "str=input(\"Enter Message: \")\n",
    "shf=int(input(\"Enter Shift Key: \"))\n",
    "e=ceaserEnc(str,shf)\n",
    "print(\"Encrypted Message: \",e)\n",
    "str1=ceaserDec(e,shf)\n",
    "print(\"Decrypted Message: \",str1)\n",
    "if(str==str1):\n",
    "    print(\"Encryption and Decryption Successful\")"
   ]
  },
  {
   "cell_type": "code",
   "execution_count": null,
   "metadata": {
    "collapsed": true
   },
   "outputs": [],
   "source": []
  }
 ],
 "metadata": {
  "kernelspec": {
   "display_name": "Python 3",
   "language": "python",
   "name": "python3"
  },
  "language_info": {
   "codemirror_mode": {
    "name": "ipython",
    "version": 3
   },
   "file_extension": ".py",
   "mimetype": "text/x-python",
   "name": "python",
   "nbconvert_exporter": "python",
   "pygments_lexer": "ipython3",
   "version": "3.6.2"
  }
 },
 "nbformat": 4,
 "nbformat_minor": 2
}
