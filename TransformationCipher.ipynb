{
 "cells": [
  {
   "cell_type": "code",
   "execution_count": 1,
   "metadata": {},
   "outputs": [],
   "source": [
    "import pandas as pd"
   ]
  },
  {
   "cell_type": "code",
   "execution_count": 2,
   "metadata": {},
   "outputs": [],
   "source": [
    "def indexmin(m):\n",
    "    import numpy as np\n",
    "    index = np.argmin(m)\n",
    "    return index"
   ]
  },
  {
   "cell_type": "code",
   "execution_count": 3,
   "metadata": {},
   "outputs": [],
   "source": [
    "def indexmax(m):\n",
    "    import numpy as np\n",
    "    index = np.argmax(m)\n",
    "    return index"
   ]
  },
  {
   "cell_type": "code",
   "execution_count": 4,
   "metadata": {},
   "outputs": [],
   "source": [
    "def getstr(m,i,r,c):\n",
    "    temp=[]\n",
    "    for j in range(2,rows+2):\n",
    "        temp.append(m[j][i])\n",
    "    return(temp)"
   ]
  },
  {
   "cell_type": "code",
   "execution_count": 5,
   "metadata": {},
   "outputs": [
    {
     "name": "stdout",
     "output_type": "stream",
     "text": [
      "Enter Value of Key: HACK\n"
     ]
    }
   ],
   "source": [
    "key=input('Enter Value of Key: ')\n",
    "columns=len(key)"
   ]
  },
  {
   "cell_type": "code",
   "execution_count": 6,
   "metadata": {},
   "outputs": [
    {
     "name": "stdout",
     "output_type": "stream",
     "text": [
      "Enter Message for Encryption: Geeks for Geeks \n"
     ]
    }
   ],
   "source": [
    "msg=input('Enter Message for Encryption: ')\n",
    "rows=round(len(msg)/columns)"
   ]
  },
  {
   "cell_type": "code",
   "execution_count": 7,
   "metadata": {},
   "outputs": [],
   "source": [
    "#get number for keys\n",
    "n=[]\n",
    "for i in range(0,len(key)):\n",
    "    char=key[i]\n",
    "    if(char.isupper()):\n",
    "        result=ord(char)-65+1\n",
    "        n.append(result)\n",
    "    else:\n",
    "        result=ord(char)-97+1\n",
    "        n.append(result)"
   ]
  },
  {
   "cell_type": "code",
   "execution_count": 8,
   "metadata": {},
   "outputs": [],
   "source": [
    "m=list(msg)\n",
    "k=list(key)"
   ]
  },
  {
   "cell_type": "code",
   "execution_count": 9,
   "metadata": {},
   "outputs": [
    {
     "name": "stdout",
     "output_type": "stream",
     "text": [
      "The Encryption Matrix is: \n",
      "['H', 'A', 'C', 'K']\n",
      "[8, 1, 3, 11]\n",
      "['G', 'e', 'e', 'k']\n",
      "['s', ' ', 'f', 'o']\n",
      "['r', ' ', 'G', 'e']\n",
      "['e', 'k', 's', ' ']\n"
     ]
    }
   ],
   "source": [
    "matrix=[]\n",
    "matrix.append(k)\n",
    "matrix.append(n)\n",
    "count=0\n",
    "for j in range(0,rows):\n",
    "    row=[]\n",
    "    for k in range(0,columns):\n",
    "        if(count!=len(m)):\n",
    "            row.append(m[count])\n",
    "            count=count+1\n",
    "    matrix.append(row)\n",
    "print(\"The Encryption Matrix is: \")\n",
    "print(matrix[0])\n",
    "print(matrix[1])\n",
    "print(matrix[2])\n",
    "print(matrix[3])\n",
    "print(matrix[4])\n",
    "print(matrix[5])\n",
    "        "
   ]
  },
  {
   "cell_type": "code",
   "execution_count": 10,
   "metadata": {},
   "outputs": [],
   "source": [
    "final=[]\n",
    "for ro in range(0,rows):\n",
    "    mat=matrix[1]\n",
    "    i=indexmin(mat)\n",
    "    if(i==999):\n",
    "        break\n",
    "    t=getstr(matrix,i,rows,columns)\n",
    "    final.extend(t)\n",
    "    mat[i]=999\n",
    "    fullf=final"
   ]
  },
  {
   "cell_type": "code",
   "execution_count": 11,
   "metadata": {},
   "outputs": [
    {
     "name": "stdout",
     "output_type": "stream",
     "text": [
      "The Transposition Encryption is:  e  kefGsGsrekoe \n"
     ]
    }
   ],
   "source": [
    "encrypt=''\n",
    "for i in range(0,len(fullf)):\n",
    "    encrypt=encrypt+fullf[i]\n",
    "print(\"The Transposition Encryption is: \",encrypt)   "
   ]
  },
  {
   "cell_type": "code",
   "execution_count": 14,
   "metadata": {},
   "outputs": [
    {
     "name": "stdout",
     "output_type": "stream",
     "text": [
      "Enter Value of Key: HACK\n"
     ]
    }
   ],
   "source": [
    "key=input('Enter Value of Key: ')\n",
    "tk=list(key)\n",
    "columns=len(key)\n",
    "e=list(encrypt)\n",
    "n=[]\n",
    "for i in range(0,len(key)):\n",
    "    char=key[i]\n",
    "    if(char.isupper()):\n",
    "        result=ord(char)-65+1\n",
    "        n.append(result)\n",
    "    else:\n",
    "        result=ord(char)-97+1\n",
    "        n.append(result)\n",
    "n.sort()\n",
    "k=list(key)\n",
    "k.sort()"
   ]
  },
  {
   "cell_type": "code",
   "execution_count": 15,
   "metadata": {},
   "outputs": [
    {
     "name": "stdout",
     "output_type": "stream",
     "text": [
      "The Decryption Matrix is: \n",
      "['A', 'C', 'H', 'K']\n",
      "[1, 3, 8, 11]\n",
      "['e', 'e', 'G', 'k']\n",
      "[' ', 'f', 's', 'o']\n",
      "[' ', 'G', 'r', 'e']\n",
      "['k', 's', 'e', ' ']\n"
     ]
    }
   ],
   "source": [
    "matrix=[]\n",
    "matrix1=[]\n",
    "matrix.append(k)\n",
    "matrix.append(n)\n",
    "count=0\n",
    "for j in range(0,rows):\n",
    "    row=[]\n",
    "    for k in range(0,columns):\n",
    "        if(count!=len(e)):\n",
    "            row.append(e[count])\n",
    "            count=count+1\n",
    "    matrix1.append(row)\n",
    "#Transpose of the matrix\n",
    "matrix1=[list(x) for x in zip(*matrix1)]\n",
    "matrix.append(matrix1[0])\n",
    "matrix.append(matrix1[1])\n",
    "matrix.append(matrix1[2])\n",
    "matrix.append(matrix1[3])\n",
    "print(\"The Decryption Matrix is: \")\n",
    "print(matrix[0])\n",
    "print(matrix[1])\n",
    "print(matrix[2])\n",
    "print(matrix[3])\n",
    "print(matrix[4])\n",
    "print(matrix[5])"
   ]
  },
  {
   "cell_type": "code",
   "execution_count": 16,
   "metadata": {},
   "outputs": [
    {
     "name": "stdout",
     "output_type": "stream",
     "text": [
      "After Sorting Decryption Matrix\n",
      "   2  0  1   3\n",
      "0  H  A  C   K\n",
      "1  8  1  3  11\n",
      "2  G  e  e   k\n",
      "3  s     f   o\n",
      "4  r     G   e\n",
      "5  e  k  s    \n"
     ]
    }
   ],
   "source": [
    "#Put in the right order\n",
    "od=[]\n",
    "for i in range(0,len(key)):\n",
    "    for j in range(0,len(key)):\n",
    "        if(tk[i]==matrix[0][j]):\n",
    "            od.append(j)\n",
    "print(\"After Sorting Decryption Matrix\")\n",
    "df = pd.DataFrame(matrix)\n",
    "df1=df.iloc[:,od]\n",
    "print(df1)"
   ]
  },
  {
   "cell_type": "code",
   "execution_count": 17,
   "metadata": {},
   "outputs": [
    {
     "name": "stdout",
     "output_type": "stream",
     "text": [
      "The Transposition Decryption is:  Geeks for Geeks \n"
     ]
    }
   ],
   "source": [
    "ll=[]\n",
    "for i in range(2,6):\n",
    "    for j in range(0,4):\n",
    "        ll.append(df1.iloc[i,j])\n",
    "decrypt=''\n",
    "for l in range(0,len(ll)):\n",
    "    decrypt=decrypt+ll[l]\n",
    "print(\"The Transposition Decryption is: \",decrypt)"
   ]
  },
  {
   "cell_type": "code",
   "execution_count": null,
   "metadata": {},
   "outputs": [],
   "source": []
  },
  {
   "cell_type": "code",
   "execution_count": null,
   "metadata": {},
   "outputs": [],
   "source": []
  }
 ],
 "metadata": {
  "kernelspec": {
   "display_name": "Python 3",
   "language": "python",
   "name": "python3"
  },
  "language_info": {
   "codemirror_mode": {
    "name": "ipython",
    "version": 3
   },
   "file_extension": ".py",
   "mimetype": "text/x-python",
   "name": "python",
   "nbconvert_exporter": "python",
   "pygments_lexer": "ipython3",
   "version": "3.6.5"
  }
 },
 "nbformat": 4,
 "nbformat_minor": 2
}
